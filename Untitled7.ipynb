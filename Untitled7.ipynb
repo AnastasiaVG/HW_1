{
  "nbformat": 4,
  "nbformat_minor": 0,
  "metadata": {
    "colab": {
      "provenance": []
    },
    "kernelspec": {
      "name": "python3",
      "display_name": "Python 3"
    },
    "language_info": {
      "name": "python"
    }
  },
  "cells": [
    {
      "cell_type": "markdown",
      "source": [
        "# Задание 1\n",
        "Вводится вектор. Вывести максимум из его элементов."
      ],
      "metadata": {
        "id": "NMidOIjr3GU9"
      }
    },
    {
      "cell_type": "code",
      "execution_count": 5,
      "metadata": {
        "colab": {
          "base_uri": "https://localhost:8080/"
        },
        "id": "mWdKdZYz3EU3",
        "outputId": "26506e85-1ec6-4224-8642-1a44c81ead11"
      },
      "outputs": [
        {
          "output_type": "stream",
          "name": "stdout",
          "text": [
            "6 64 89 222 13 62 5\n",
            "222\n"
          ]
        }
      ],
      "source": [
        "vect = list(map(int, input().split()))\n",
        "print(max(vect))"
      ]
    },
    {
      "cell_type": "markdown",
      "source": [
        "# Задание 2\n",
        "Вводится вектор. Заменить в нём каждое число Фибоначчи на следующее."
      ],
      "metadata": {
        "id": "Dwf7gYl44mmB"
      }
    },
    {
      "cell_type": "code",
      "source": [
        "vect = list(map(int, input().split()))\n",
        "m = max(vect) \n",
        "def fibonacci(m):\n",
        "    a, b = 1, 1\n",
        "    while a <= m:\n",
        "      yield a\n",
        "      a, b = b, a + b\n",
        "\n",
        "vect_fib = list(fibonacci(m))\n",
        "vect_fib.append(vect_fib[-1]+vect_fib[-2]) #добавляем в список следующее число Фибоначчи для случая, когда максимальное число списка vect является числом Фибоначчи \n",
        "\n",
        "for i in range(len(vect)):\n",
        "  if vect[i] in vect_fib:\n",
        "    vect[i] = vect_fib[vect_fib.index(vect[i]) + 1]\n",
        "print(vect)\n"
      ],
      "metadata": {
        "colab": {
          "base_uri": "https://localhost:8080/"
        },
        "id": "h39DvOdb4sOf",
        "outputId": "21be2f5d-2606-4363-853a-dd50433c478e"
      },
      "execution_count": 18,
      "outputs": [
        {
          "output_type": "stream",
          "name": "stdout",
          "text": [
            "6 64 89 222 13 62 5\n",
            "[6, 64, 144, 222, 21, 62, 8]\n"
          ]
        }
      ]
    },
    {
      "cell_type": "markdown",
      "source": [
        "# Задание 3\n",
        "Напишите программу, которая помогает определить какие вещи могут поместиться в рюкзак. Вводится существующий объем рюкзака. Затем вводятся объемы всех вещей, которые хочется туда поместить. Нужно вывести список объемов вещей, которые поместятся в рюкзак. Постарайтесь максимизировать кол-во вошедших вещей."
      ],
      "metadata": {
        "id": "Cfuj3Jyn-2Ml"
      }
    },
    {
      "cell_type": "code",
      "source": [
        "volume = int(input())\n",
        "objects = list(map(int, input().split()))\n",
        "objects.sort()\n",
        "objects_in = []\n",
        "for obj in objects:\n",
        "  if obj + sum(objects_in) <= volume:\n",
        "    objects_in.append(obj)\n",
        "print(objects_in)\n",
        "\n"
      ],
      "metadata": {
        "colab": {
          "base_uri": "https://localhost:8080/"
        },
        "id": "p3wnItPa-91P",
        "outputId": "d3da8c5b-d02c-4a29-8df5-9bded21457c8"
      },
      "execution_count": 25,
      "outputs": [
        {
          "output_type": "stream",
          "name": "stdout",
          "text": [
            "20\n",
            "2 4 8 12 16\n",
            "[2, 4, 8]\n"
          ]
        }
      ]
    },
    {
      "cell_type": "markdown",
      "source": [
        "# Задание 4\n",
        "Данные об email-адресах студентов хранятся в словаре: {домен:логины} . Нужно дополнить код таким образом, чтобы он вывел все адреса в алфавитном порядке и в формате имя_пользователя@домен"
      ],
      "metadata": {
        "id": "r2ix16nLBgSF"
      }
    },
    {
      "cell_type": "code",
      "source": [
        "my_dict = {'rea.ru': ['misha', 'pasha'], 'study.com': ['olga', 'nastay', 'igor']}\n",
        "new_list = []\n",
        "for key, value in my_dict.items():\n",
        "  for name in value:\n",
        "    new_list.append(name + '@'+ key)\n",
        "new_list.sort()\n",
        "print(\"\\n\".join(new_list))\n",
        "\n"
      ],
      "metadata": {
        "colab": {
          "base_uri": "https://localhost:8080/"
        },
        "id": "7Dc56OZTBjno",
        "outputId": "249e4bc2-27da-4ea9-bc52-7d2fa0e6fc07"
      },
      "execution_count": 36,
      "outputs": [
        {
          "output_type": "stream",
          "name": "stdout",
          "text": [
            "igor@study.com\n",
            "misha@rea.ru\n",
            "nastay@study.com\n",
            "olga@study.com\n",
            "pasha@rea.ru\n"
          ]
        }
      ]
    }
  ]
}