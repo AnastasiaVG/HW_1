{
  "nbformat": 4,
  "nbformat_minor": 0,
  "metadata": {
    "colab": {
      "provenance": [],
      "collapsed_sections": []
    },
    "kernelspec": {
      "name": "python3",
      "display_name": "Python 3"
    },
    "language_info": {
      "name": "python"
    }
  },
  "cells": [
    {
      "cell_type": "markdown",
      "source": [
        "# **Задание 1**\n",
        "Задана строка. Необходимо посчитать количество символов\n"
      ],
      "metadata": {
        "id": "R5kULTyqU9xt"
      }
    },
    {
      "cell_type": "code",
      "execution_count": 7,
      "metadata": {
        "id": "UXFpQqMPUvZ_",
        "colab": {
          "base_uri": "https://localhost:8080/"
        },
        "outputId": "86683352-d619-4508-ff58-a7831db0d2b8"
      },
      "outputs": [
        {
          "output_type": "stream",
          "name": "stdout",
          "text": [
            "fghir'rth'rthrr\n",
            "Длина строки: 15\n"
          ]
        }
      ],
      "source": [
        "string = input()\n",
        "print('Длина строки:',len(string))"
      ]
    },
    {
      "cell_type": "markdown",
      "source": [
        "# Задание 2\n",
        "Измените порядок символов в строке на обратный"
      ],
      "metadata": {
        "id": "FKLQUGA9Vzn_"
      }
    },
    {
      "cell_type": "code",
      "source": [
        "string_1 = string[::-1]\n",
        "print(string_1)"
      ],
      "metadata": {
        "colab": {
          "base_uri": "https://localhost:8080/"
        },
        "id": "RaS_P6gOYWpU",
        "outputId": "45b9aedf-8679-4a1a-fd89-fcd56be66487"
      },
      "execution_count": 8,
      "outputs": [
        {
          "output_type": "stream",
          "name": "stdout",
          "text": [
            "rrhtr'htr'rihgf\n"
          ]
        }
      ]
    },
    {
      "cell_type": "markdown",
      "source": [
        "# Задание 3\n",
        "Найдите подстроку, заключенную в двойных кавычках в строке"
      ],
      "metadata": {
        "id": "mqHhxtirYqkJ"
      }
    },
    {
      "cell_type": "code",
      "source": [
        "ind_1 = string.find('\\'')\n",
        "ind_2 = string.find('\\'',ind_1+1)\n",
        "string_2 = string[ind_1:ind_2+1]\n",
        "print(string_2)"
      ],
      "metadata": {
        "colab": {
          "base_uri": "https://localhost:8080/"
        },
        "id": "O4PpRFgaYyG4",
        "outputId": "438920fa-ae13-4699-f7d6-8c21c22dc250"
      },
      "execution_count": 10,
      "outputs": [
        {
          "output_type": "stream",
          "name": "stdout",
          "text": [
            "'rth'\n"
          ]
        }
      ]
    },
    {
      "cell_type": "markdown",
      "source": [
        "# Задание 4\n",
        "В строке записаны два числа, разделенные пробелом. Поменяйте их местами и напечатайте результат"
      ],
      "metadata": {
        "id": "JtpcKpuCaZwE"
      }
    },
    {
      "cell_type": "code",
      "source": [
        "num = input()\n",
        "ind = num.find(' ')\n",
        "num_1 = num[ind+1:] + ' ' + num[:ind]\n",
        "print(num_1)"
      ],
      "metadata": {
        "colab": {
          "base_uri": "https://localhost:8080/"
        },
        "id": "NtcNKAJDad84",
        "outputId": "99c19dbb-351d-4a2d-cbfc-169e2684e877"
      },
      "execution_count": 12,
      "outputs": [
        {
          "output_type": "stream",
          "name": "stdout",
          "text": [
            "456 21\n",
            "21 456\n"
          ]
        }
      ]
    },
    {
      "cell_type": "markdown",
      "source": [
        "# Задание 5\n",
        "Из почтового адреса нужно достать логин"
      ],
      "metadata": {
        "id": "177tWug-bbIm"
      }
    },
    {
      "cell_type": "code",
      "source": [
        "mail = input()\n",
        "ind = mail.find('@')\n",
        "login = mail[:ind]\n",
        "print(login)\n"
      ],
      "metadata": {
        "colab": {
          "base_uri": "https://localhost:8080/"
        },
        "id": "pidpLgsgbetN",
        "outputId": "b36caa9a-fc52-441d-e6f0-9b10e5657de8"
      },
      "execution_count": 13,
      "outputs": [
        {
          "output_type": "stream",
          "name": "stdout",
          "text": [
            "\tivan@lenta.ru\n",
            "\tivan\n"
          ]
        }
      ]
    },
    {
      "cell_type": "markdown",
      "source": [
        "# Задание 6\n",
        "Человек вводит на сайте номер телефона, ему позволено для удобства использовать кроме плюса и цифр знаки ‘-’, ‘)’, ‘(’ и пробелы. Уберите их из ввода"
      ],
      "metadata": {
        "id": "4JbSgyjmb1aj"
      }
    },
    {
      "cell_type": "code",
      "source": [
        "tel_num = input()\n",
        "print(tel_num.replace('-','').replace(')','').replace('(','').replace(' ',''))\n"
      ],
      "metadata": {
        "colab": {
          "base_uri": "https://localhost:8080/"
        },
        "id": "E-Alo_I7b8qR",
        "outputId": "f5f91688-1015-4f1f-9d48-2ce8b13f29cc"
      },
      "execution_count": 17,
      "outputs": [
        {
          "output_type": "stream",
          "name": "stdout",
          "text": [
            "7(495) 234-56-78\n",
            "74952345678\n"
          ]
        }
      ]
    },
    {
      "cell_type": "markdown",
      "source": [
        "# Задание 7\n",
        "Вводится строка. Разделитель слов – пробел. Вывести все слова (на отдельных строках)"
      ],
      "metadata": {
        "id": "0jDPjsZIdZnx"
      }
    },
    {
      "cell_type": "code",
      "source": [
        "string = input()\n",
        "k = 0\n",
        "for i in range(len(string)):\n",
        "  if string[i] == ' ':\n",
        "    print(string[k:i])\n",
        "    k = i+1\n",
        "print(string[k:])\n"
      ],
      "metadata": {
        "id": "Og6UnuC6dg9x"
      },
      "execution_count": null,
      "outputs": []
    },
    {
      "cell_type": "markdown",
      "source": [
        "# Задание 8\n",
        "Вам дана строка, состоящая только из букв английского алфавита и пробелов. Напишите программу, которая определит, является ли строка палиндромом"
      ],
      "metadata": {
        "id": "ehDmEnl9s8nP"
      }
    },
    {
      "cell_type": "code",
      "source": [
        "string = input()\n",
        "if string == string[::-1]:\n",
        "  print('yes')\n",
        "else:\n",
        "  print('no')"
      ],
      "metadata": {
        "id": "Fw5J2jPutD7R"
      },
      "execution_count": null,
      "outputs": []
    }
  ]
}