{
  "nbformat": 4,
  "nbformat_minor": 0,
  "metadata": {
    "colab": {
      "provenance": []
    },
    "kernelspec": {
      "name": "python3",
      "display_name": "Python 3"
    },
    "language_info": {
      "name": "python"
    }
  },
  "cells": [
    {
      "cell_type": "markdown",
      "source": [
        "# Задание 1\n",
        "На вход подается строка, состоящая из одного числа. Напишите программу, которая удваивает его.\n"
      ],
      "metadata": {
        "id": "ZsSFnNcpV88x"
      }
    },
    {
      "cell_type": "code",
      "execution_count": 1,
      "metadata": {
        "id": "MT70gLROV3XL",
        "colab": {
          "base_uri": "https://localhost:8080/"
        },
        "outputId": "73df9fb1-9f40-4f18-dcc2-13d6caf5c9a8"
      },
      "outputs": [
        {
          "output_type": "stream",
          "name": "stdout",
          "text": [
            "16\n",
            "32\n"
          ]
        }
      ],
      "source": [
        "num = int(input())\n",
        "num = 2*num\n",
        "print(num)"
      ]
    },
    {
      "cell_type": "markdown",
      "source": [
        "# Задание 2\n",
        "Вводится число. Вывести его квадрат."
      ],
      "metadata": {
        "id": "L_AXYXzTWYtj"
      }
    },
    {
      "cell_type": "code",
      "source": [
        "num = int(input())\n",
        "num = num**2\n",
        "print(num)"
      ],
      "metadata": {
        "id": "GfGMIC_NWhve",
        "colab": {
          "base_uri": "https://localhost:8080/"
        },
        "outputId": "5a2e0eda-1b69-43cd-afa0-42281eb40b24"
      },
      "execution_count": 2,
      "outputs": [
        {
          "output_type": "stream",
          "name": "stdout",
          "text": [
            "16\n",
            "256\n"
          ]
        }
      ]
    },
    {
      "cell_type": "markdown",
      "source": [
        "# Задание 3\n",
        "Вводятся часы, минуты и секунды. Вывести, сколько секунд прошло с полуночи.\n",
        "Вывести, какая часть суток прошла (число от 0 до 1)"
      ],
      "metadata": {
        "id": "w7pdmvIyWmDW"
      }
    },
    {
      "cell_type": "code",
      "source": [
        "h = int(input('Введите часы '))\n",
        "m = int(input('Введите минуты '))\n",
        "s = int(input('Введите секунды '))\n",
        "sec = h*3600 + m*60 + s\n",
        "part = sec/(24*3600)\n",
        "print('seconds:', sec)\n",
        "print('day part:', round(part,4))"
      ],
      "metadata": {
        "id": "8_9FCm92WuAU",
        "colab": {
          "base_uri": "https://localhost:8080/"
        },
        "outputId": "03781742-abca-414c-dc49-c6d8dfa4b8c5"
      },
      "execution_count": 3,
      "outputs": [
        {
          "output_type": "stream",
          "name": "stdout",
          "text": [
            "Введите часы 19\n",
            "Введите минуты 54\n",
            "Введите секунды 12\n",
            "seconds: 71652\n",
            "day part: 0.8293\n"
          ]
        }
      ]
    },
    {
      "cell_type": "markdown",
      "source": [
        "# Задание 4\n",
        "Вводится число. Вывести, оканчивается ли оно на цифру 7, не используя приведение к строке и операции над строками"
      ],
      "metadata": {
        "id": "eS8FpaNvX9Kp"
      }
    },
    {
      "cell_type": "code",
      "source": [
        "num = int(input())\n",
        "print(num %10 == 7 )\n"
      ],
      "metadata": {
        "colab": {
          "base_uri": "https://localhost:8080/"
        },
        "id": "krhw0Ea5YEN-",
        "outputId": "0b65d6e1-db59-4048-d3d5-b6a7d639dbd2"
      },
      "execution_count": null,
      "outputs": [
        {
          "output_type": "stream",
          "name": "stdout",
          "text": [
            "127\n",
            "True\n"
          ]
        }
      ]
    },
    {
      "cell_type": "markdown",
      "source": [
        "# Задание 5\n",
        "Вводятся коэффициенты уравнения ax2+bx+c=0. Вывести его корни(не забыть проверить, что a не равно 0)"
      ],
      "metadata": {
        "id": "5dYKJhgMYaZk"
      }
    },
    {
      "cell_type": "code",
      "source": [
        "import math\n",
        "\n",
        "a = float(input('a '))\n",
        "b = float(input('b '))\n",
        "c = float(input('c '))\n",
        "\n",
        "if a == 0:\n",
        "  print('Уравнение не является квадратным')\n",
        "  print('x =', -c/b )\n",
        "else:\n",
        "\n",
        "  d = b**2 - 4*a*c\n",
        "  if d < 0:\n",
        "    print('Корней нет')\n",
        "  elif d == 0:\n",
        "    x = round(-b/(2*a),4)\n",
        "    print(x)\n",
        "  else:\n",
        "    x_1 = round((-b - math.sqrt(d))/(2*a),4)\n",
        "    x_2 = round((math.sqrt(d) - b)/(2*a),4)\n",
        "    print(x_1)\n",
        "    print(x_2)\n",
        "\n",
        "\n"
      ],
      "metadata": {
        "colab": {
          "base_uri": "https://localhost:8080/"
        },
        "id": "fjqez7y8Ydbc",
        "outputId": "8112975f-43fa-4643-8f84-1d071f4f3345"
      },
      "execution_count": 6,
      "outputs": [
        {
          "output_type": "stream",
          "name": "stdout",
          "text": [
            "a 1\n",
            "b 10\n",
            "c -39\n",
            "-13.0\n",
            "3.0\n"
          ]
        }
      ]
    },
    {
      "cell_type": "markdown",
      "source": [
        "# Задание 6\n",
        "Вводятся три числа. Вывести максимум из них."
      ],
      "metadata": {
        "id": "JWHo2Rx7eE1H"
      }
    },
    {
      "cell_type": "code",
      "source": [
        "num_1 = int(input())\n",
        "num_2 = int(input())\n",
        "num_3 = int(input())\n",
        "print(max(num_1,num_2,num_3))"
      ],
      "metadata": {
        "colab": {
          "base_uri": "https://localhost:8080/"
        },
        "id": "aAQl84BeeLRH",
        "outputId": "847b6440-69d5-47b3-fe19-3ca3651e1d92"
      },
      "execution_count": null,
      "outputs": [
        {
          "output_type": "stream",
          "name": "stdout",
          "text": [
            "2\n",
            "-4\n",
            "10\n",
            "10\n"
          ]
        }
      ]
    },
    {
      "cell_type": "markdown",
      "source": [
        "# Задание 7\n",
        "Вводится число. Вывести среднее арифметическое (с точностью до двух знаков после запятой) тех чисел в диапазоне от единицы до введённого числа, которые делятся 5 или являются четными."
      ],
      "metadata": {
        "id": "_LlfwGwFeru5"
      }
    },
    {
      "cell_type": "code",
      "source": [
        "num = int(input())\n",
        "num_list = []\n",
        "for n in range(1,num + 1):\n",
        "  if (n % 5 == 0) or (n % 2 == 0):\n",
        "    num_list.append(n)\n",
        "print(round(sum(num_list)/len(num_list), 2))\n"
      ],
      "metadata": {
        "colab": {
          "base_uri": "https://localhost:8080/"
        },
        "id": "x4WvAjwxezj9",
        "outputId": "424b1e67-8912-49a7-e352-ac2f45b34f7a"
      },
      "execution_count": null,
      "outputs": [
        {
          "output_type": "stream",
          "name": "stdout",
          "text": [
            "23\n",
            "11.69\n"
          ]
        }
      ]
    }
  ]
}